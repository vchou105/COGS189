{
 "cells": [
  {
   "cell_type": "code",
   "execution_count": 1,
   "metadata": {},
   "outputs": [],
   "source": [
    "#The line below downloads pyedflib to datahub\n",
    "#!pip install pyedflib --user\n",
    "import pandas as pd\n",
    "import numpy as np\n",
    "import os\n",
    "import pyedflib\n",
    "import math\n",
    "import warnings\n",
    "warnings.filterwarnings('ignore')\n",
    "from IPython.display import Image\n",
    "import re"
   ]
  },
  {
   "cell_type": "code",
   "execution_count": 5,
   "metadata": {},
   "outputs": [],
   "source": [
    "def bdf_to_df(file_name):\n",
    "    #file_name = os.path.join('data', file_path)\n",
    "    f = pyedflib.EdfReader(file_name)\n",
    "    n = f.signals_in_file\n",
    "    signal_labels = f.getSignalLabels()\n",
    "    sigbufs = np.zeros((n, f.getNSamples()[0]))\n",
    "    for i in np.arange(n):\n",
    "        sigbufs[i, :] = f.readSignal(i)\n",
    "    rec = pd.DataFrame(sigbufs).T\n",
    "    rec.columns = signal_labels\n",
    "    return rec"
   ]
  },
  {
   "cell_type": "code",
   "execution_count": 6,
   "metadata": {},
   "outputs": [],
   "source": [
    "rec1 = bdf_to_df('eeg_recording_1.bdf')"
   ]
  },
  {
   "cell_type": "code",
   "execution_count": 7,
   "metadata": {},
   "outputs": [
    {
     "name": "stdout",
     "output_type": "stream",
     "text": [
      "28\n",
      "[3407872.0, 3407873.0, 3407874.0, 3407876.0, 3407877.0, 3407878.0, 3407879.0, 3407880.0, 3407881.0, 3407882.0, 3407883.0, 3407884.0, 3407885.0, 3407886.0, 3407887.0, 3407888.0, 3407889.0, 3407890.0, 3407891.0, 3407893.0, 3407894.0, 3407895.0, 3407896.0, 3407897.0, 3407898.0, 3407902.0, 3407972.0, 3473408.0]\n"
     ]
    },
    {
     "data": {
      "text/plain": [
       "(28,\n",
       " [3407872.0,\n",
       "  3407873.0,\n",
       "  3407874.0,\n",
       "  3407876.0,\n",
       "  3407877.0,\n",
       "  3407878.0,\n",
       "  3407879.0,\n",
       "  3407880.0,\n",
       "  3407881.0,\n",
       "  3407882.0,\n",
       "  3407883.0,\n",
       "  3407884.0,\n",
       "  3407885.0,\n",
       "  3407886.0,\n",
       "  3407887.0,\n",
       "  3407888.0,\n",
       "  3407889.0,\n",
       "  3407890.0,\n",
       "  3407891.0,\n",
       "  3407893.0,\n",
       "  3407894.0,\n",
       "  3407895.0,\n",
       "  3407896.0,\n",
       "  3407897.0,\n",
       "  3407898.0,\n",
       "  3407902.0,\n",
       "  3407972.0,\n",
       "  3473408.0])"
      ]
     },
     "execution_count": 7,
     "metadata": {},
     "output_type": "execute_result"
    }
   ],
   "source": [
    "def check_status(df):\n",
    "    print(len(df.Status.unique()))\n",
    "    print(sorted(df.Status.unique()))\n",
    "    return (len(df.Status.unique()), sorted(df.Status.unique()))\n",
    "check_status(rec1)"
   ]
  }
 ],
 "metadata": {
  "kernelspec": {
   "display_name": "base",
   "language": "python",
   "name": "python3"
  },
  "language_info": {
   "codemirror_mode": {
    "name": "ipython",
    "version": 3
   },
   "file_extension": ".py",
   "mimetype": "text/x-python",
   "name": "python",
   "nbconvert_exporter": "python",
   "pygments_lexer": "ipython3",
   "version": "3.8.5"
  },
  "orig_nbformat": 4,
  "vscode": {
   "interpreter": {
    "hash": "5f8929016d30f12a89eab5b5e02a6c1410fc73da4b23b89b4eb7a3bc58137fe5"
   }
  }
 },
 "nbformat": 4,
 "nbformat_minor": 2
}
