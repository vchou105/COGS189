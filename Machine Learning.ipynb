{
 "cells": [
  {
   "cell_type": "code",
   "execution_count": 82,
   "id": "063710e1",
   "metadata": {},
   "outputs": [],
   "source": [
    "import pandas as pd\n",
    "import numpy as np\n",
    "import warnings\n",
    "warnings.filterwarnings('ignore')\n",
    "from sklearn.model_selection import train_test_split\n",
    "from sklearn.ensemble import RandomForestClassifier\n",
    "from sklearn.linear_model import LogisticRegression\n",
    "from sklearn.discriminant_analysis import LinearDiscriminantAnalysis\n",
    "from sklearn.preprocessing import StandardScaler\n",
    "from sklearn.model_selection import GridSearchCV\n",
    "from sklearn.decomposition import PCA"
   ]
  },
  {
   "cell_type": "code",
   "execution_count": 93,
   "id": "003a9503",
   "metadata": {
    "scrolled": true
   },
   "outputs": [],
   "source": [
    "rec1 = pd.read_csv('rec1.csv')\n",
    "rec2 = pd.read_csv('rec2.csv')\n",
    "rec3 = pd.read_csv('rec3.csv')\n",
    "rec4 = pd.read_csv('rec4.csv')\n",
    "rec5 = pd.read_csv('rec5.csv')"
   ]
  },
  {
   "cell_type": "code",
   "execution_count": 94,
   "id": "60039c06",
   "metadata": {},
   "outputs": [],
   "source": [
    "rec1 = rec1.drop(columns = ['Unnamed: 0'])\n",
    "rec2 = rec2.drop(columns = ['Unnamed: 0'])\n",
    "rec3 = rec3.drop(columns = ['Unnamed: 0'])\n",
    "rec4 = rec4.drop(columns = ['Unnamed: 0'])\n",
    "rec5 = rec5.drop(columns = ['Unnamed: 0'])"
   ]
  },
  {
   "cell_type": "markdown",
   "id": "166b17a0",
   "metadata": {},
   "source": [
    "# Trial 1: Rec 1 without pca"
   ]
  },
  {
   "cell_type": "code",
   "execution_count": 95,
   "id": "c55a925a",
   "metadata": {
    "scrolled": true
   },
   "outputs": [],
   "source": [
    "y = rec1['Status']\n",
    "X = rec1.iloc[:,:-9]"
   ]
  },
  {
   "cell_type": "code",
   "execution_count": 96,
   "id": "8ce97089",
   "metadata": {},
   "outputs": [],
   "source": [
    "X_train, X_test, y_train, y_test = train_test_split(X, y, test_size = 0.2, random_state = 0)"
   ]
  },
  {
   "cell_type": "markdown",
   "id": "e089f5c2",
   "metadata": {},
   "source": [
    "### Logistic Regression"
   ]
  },
  {
   "cell_type": "code",
   "execution_count": 97,
   "id": "7bcdaa49",
   "metadata": {
    "scrolled": false
   },
   "outputs": [
    {
     "data": {
      "text/plain": [
       "1.0"
      ]
     },
     "execution_count": 97,
     "metadata": {},
     "output_type": "execute_result"
    }
   ],
   "source": [
    "clf = LogisticRegression(random_state=0).fit(X_train, y_train)\n",
    "# clf.predict(X_test)\n",
    "clf.score(X_test, y_test)"
   ]
  },
  {
   "cell_type": "markdown",
   "id": "0d65ee1a",
   "metadata": {},
   "source": [
    "100% accuracy"
   ]
  },
  {
   "cell_type": "markdown",
   "id": "afaf9888",
   "metadata": {},
   "source": [
    "### Random Forest Classifier"
   ]
  },
  {
   "cell_type": "code",
   "execution_count": 98,
   "id": "66074dda",
   "metadata": {
    "scrolled": true
   },
   "outputs": [
    {
     "data": {
      "text/plain": [
       "0.8333333333333334"
      ]
     },
     "execution_count": 98,
     "metadata": {},
     "output_type": "execute_result"
    }
   ],
   "source": [
    "#Next step: try to use grid search CV on this\n",
    "clf = RandomForestClassifier(max_depth=2, random_state=0)\n",
    "clf.fit(X_train, y_train)\n",
    "clf.score(X_test, y_test)"
   ]
  },
  {
   "cell_type": "markdown",
   "id": "3a3af04c",
   "metadata": {},
   "source": [
    "83% accuracy"
   ]
  },
  {
   "cell_type": "markdown",
   "id": "2e422b0c",
   "metadata": {},
   "source": [
    "### Linear Discriminiant Analysis"
   ]
  },
  {
   "cell_type": "code",
   "execution_count": 99,
   "id": "e94a9756",
   "metadata": {},
   "outputs": [
    {
     "data": {
      "text/plain": [
       "1.0"
      ]
     },
     "execution_count": 99,
     "metadata": {},
     "output_type": "execute_result"
    }
   ],
   "source": [
    "clf = LinearDiscriminantAnalysis()\n",
    "clf.fit(X_train, y_train)\n",
    "clf.score(X_test, y_test)"
   ]
  },
  {
   "cell_type": "markdown",
   "id": "6bb1bc90",
   "metadata": {},
   "source": [
    "1% accuracy"
   ]
  },
  {
   "cell_type": "markdown",
   "id": "4f6d0611",
   "metadata": {},
   "source": [
    "## Trial 2: PCA only Rec1"
   ]
  },
  {
   "cell_type": "code",
   "execution_count": 100,
   "id": "c7985e81",
   "metadata": {},
   "outputs": [],
   "source": [
    "sc = StandardScaler()\n",
    "X_pca = sc.fit_transform(X)\n",
    "\n",
    "pca = PCA(n_components = 85)\n",
    "X_pca = pca.fit_transform(X)"
   ]
  },
  {
   "cell_type": "markdown",
   "id": "634b5223",
   "metadata": {},
   "source": [
    "make it into 80 columns reducing the columns by 1/3"
   ]
  },
  {
   "cell_type": "code",
   "execution_count": 101,
   "id": "e91d5a84",
   "metadata": {},
   "outputs": [
    {
     "data": {
      "text/plain": [
       "(90, 85)"
      ]
     },
     "execution_count": 101,
     "metadata": {},
     "output_type": "execute_result"
    }
   ],
   "source": [
    "X_pca.shape"
   ]
  },
  {
   "cell_type": "code",
   "execution_count": 102,
   "id": "c3775837",
   "metadata": {},
   "outputs": [],
   "source": [
    "X_train_pca, X_test_pca, y_train_pca, y_test_pca = train_test_split(X_pca, y, test_size = 0.2, random_state = 0)"
   ]
  },
  {
   "cell_type": "markdown",
   "id": "e26dc793",
   "metadata": {},
   "source": [
    "### Logistic Regression "
   ]
  },
  {
   "cell_type": "code",
   "execution_count": 103,
   "id": "0ccd4c60",
   "metadata": {},
   "outputs": [
    {
     "data": {
      "text/plain": [
       "1.0"
      ]
     },
     "execution_count": 103,
     "metadata": {},
     "output_type": "execute_result"
    }
   ],
   "source": [
    "clf = LogisticRegression(random_state=0).fit(X_train_pca, y_train_pca)\n",
    "# clf.predict(X_test)\n",
    "clf.score(X_test_pca, y_test_pca)"
   ]
  },
  {
   "cell_type": "markdown",
   "id": "4bc596a8",
   "metadata": {},
   "source": [
    "still result in 100 accuracy even with pca"
   ]
  },
  {
   "cell_type": "markdown",
   "id": "6c0ed0d7",
   "metadata": {},
   "source": [
    "### Random Forest Classifier"
   ]
  },
  {
   "cell_type": "code",
   "execution_count": 104,
   "id": "2861c19b",
   "metadata": {},
   "outputs": [
    {
     "data": {
      "text/plain": [
       "0.7222222222222222"
      ]
     },
     "execution_count": 104,
     "metadata": {},
     "output_type": "execute_result"
    }
   ],
   "source": [
    "clf = RandomForestClassifier(max_depth=2, random_state=0)\n",
    "clf.fit(X_train_pca, y_train_pca)\n",
    "clf.score(X_test_pca, y_test_pca)"
   ]
  },
  {
   "cell_type": "markdown",
   "id": "57855bc5",
   "metadata": {},
   "source": [
    "72% accuracy"
   ]
  },
  {
   "cell_type": "markdown",
   "id": "1b8123a8",
   "metadata": {},
   "source": [
    "### Linear Discriminiant Analysis\n"
   ]
  },
  {
   "cell_type": "code",
   "execution_count": 105,
   "id": "16edf78d",
   "metadata": {},
   "outputs": [
    {
     "data": {
      "text/plain": [
       "0.4444444444444444"
      ]
     },
     "execution_count": 105,
     "metadata": {},
     "output_type": "execute_result"
    }
   ],
   "source": [
    "clf = LinearDiscriminantAnalysis()\n",
    "clf.fit(X_train_pca, y_train_pca)\n",
    "clf.score(X_test_pca, y_test_pca)"
   ]
  },
  {
   "cell_type": "markdown",
   "id": "18055e3d",
   "metadata": {},
   "source": [
    "44% accuracy"
   ]
  },
  {
   "cell_type": "markdown",
   "id": "6a871e80",
   "metadata": {},
   "source": [
    "## Trial 3: Train on Multiple Rec\n",
    "### combine first and then apply pca"
   ]
  },
  {
   "cell_type": "code",
   "execution_count": 116,
   "id": "a47a2dc0",
   "metadata": {},
   "outputs": [],
   "source": [
    "combined = rec1.append(rec2).append(rec3).append(rec4).append(rec5)"
   ]
  },
  {
   "cell_type": "code",
   "execution_count": 119,
   "id": "145d1ed4",
   "metadata": {},
   "outputs": [
    {
     "data": {
      "text/plain": [
       "(470, 265)"
      ]
     },
     "execution_count": 119,
     "metadata": {},
     "output_type": "execute_result"
    }
   ],
   "source": [
    "combined.shape"
   ]
  },
  {
   "cell_type": "code",
   "execution_count": 120,
   "id": "f9d7658b",
   "metadata": {},
   "outputs": [],
   "source": [
    "X_combined = combined.iloc[:,:-9]\n",
    "y_combined = combined['Status']"
   ]
  },
  {
   "cell_type": "code",
   "execution_count": 121,
   "id": "d3b4294f",
   "metadata": {},
   "outputs": [
    {
     "data": {
      "text/plain": [
       " 1    348\n",
       "-1    122\n",
       "Name: Status, dtype: int64"
      ]
     },
     "execution_count": 121,
     "metadata": {},
     "output_type": "execute_result"
    }
   ],
   "source": [
    "y_combined.value_counts()"
   ]
  },
  {
   "cell_type": "code",
   "execution_count": 122,
   "id": "54c35c72",
   "metadata": {},
   "outputs": [],
   "source": [
    "#pca\n",
    "sc = StandardScaler()\n",
    "X_combined = sc.fit_transform(X_combined)\n",
    "\n",
    "pca = PCA(n_components = 85)\n",
    "X_combined = pca.fit_transform(X_combined)"
   ]
  },
  {
   "cell_type": "code",
   "execution_count": 123,
   "id": "949bc816",
   "metadata": {},
   "outputs": [
    {
     "data": {
      "text/plain": [
       "(470, 85)"
      ]
     },
     "execution_count": 123,
     "metadata": {},
     "output_type": "execute_result"
    }
   ],
   "source": [
    "X_combined.shape # after pca"
   ]
  },
  {
   "cell_type": "code",
   "execution_count": 124,
   "id": "3f22c87b",
   "metadata": {},
   "outputs": [],
   "source": [
    "X_train_com, X_test_com, y_train_com, y_test_com = train_test_split(X_combined, y_combined, test_size = 0.2, random_state = 0)"
   ]
  },
  {
   "cell_type": "markdown",
   "id": "d535f42d",
   "metadata": {},
   "source": [
    "### Logistic Regression"
   ]
  },
  {
   "cell_type": "code",
   "execution_count": 125,
   "id": "e22da0ae",
   "metadata": {},
   "outputs": [
    {
     "data": {
      "text/plain": [
       "0.7978723404255319"
      ]
     },
     "execution_count": 125,
     "metadata": {},
     "output_type": "execute_result"
    }
   ],
   "source": [
    "log = LogisticRegression(random_state=0).fit(X_train_com, y_train_com)\n",
    "# clf.predict(X_test)\n",
    "log.score(X_test_com, y_test_com)"
   ]
  },
  {
   "cell_type": "markdown",
   "id": "fafa0d2f",
   "metadata": {},
   "source": [
    "### Random Forest Classifier"
   ]
  },
  {
   "cell_type": "code",
   "execution_count": 126,
   "id": "ca90e9dd",
   "metadata": {},
   "outputs": [
    {
     "data": {
      "text/plain": [
       "0.7553191489361702"
      ]
     },
     "execution_count": 126,
     "metadata": {},
     "output_type": "execute_result"
    }
   ],
   "source": [
    "rfc = RandomForestClassifier(max_depth=2, random_state=0)\n",
    "rfc.fit(X_train_com, y_train_com)\n",
    "rfc.score(X_test_com, y_test_com)"
   ]
  },
  {
   "cell_type": "markdown",
   "id": "f3fe0768",
   "metadata": {},
   "source": [
    "### Linear Discriminiant Analysis"
   ]
  },
  {
   "cell_type": "code",
   "execution_count": 127,
   "id": "1a4f56fe",
   "metadata": {},
   "outputs": [
    {
     "data": {
      "text/plain": [
       "0.7978723404255319"
      ]
     },
     "execution_count": 127,
     "metadata": {},
     "output_type": "execute_result"
    }
   ],
   "source": [
    "lda = LinearDiscriminantAnalysis()\n",
    "lda.fit(X_train_com, y_train_com)\n",
    "lda.score(X_test_com, y_test_com)"
   ]
  },
  {
   "cell_type": "markdown",
   "id": "0082e69e",
   "metadata": {},
   "source": [
    "# Trial 5: Using Grid Search CV to find the best parameter"
   ]
  },
  {
   "cell_type": "markdown",
   "id": "22c98805",
   "metadata": {},
   "source": [
    "### Logistic Regression"
   ]
  },
  {
   "cell_type": "code",
   "execution_count": 140,
   "id": "78b477d2",
   "metadata": {},
   "outputs": [
    {
     "data": {
      "text/plain": [
       "{'C': 100, 'solver': 'newton-cg'}"
      ]
     },
     "execution_count": 140,
     "metadata": {},
     "output_type": "execute_result"
    }
   ],
   "source": [
    "params = [{'solver': ['newton-cg', 'lbfgs', 'liblinear'],\n",
    "           'C': [100, 10, 1.0, 0.1, 0.01]\n",
    "          }]\n",
    "rfc_gs = GridSearchCV(LogisticRegression(),\n",
    "                      param_grid=params,\n",
    "                      scoring='accuracy',\n",
    "                      cv=5)\n",
    "rfc_gs.fit(X_train_com, y_train_com)\n",
    "rfc_gs.best_params_"
   ]
  },
  {
   "cell_type": "code",
   "execution_count": 141,
   "id": "7360988c",
   "metadata": {},
   "outputs": [
    {
     "data": {
      "text/plain": [
       "0.8936170212765957"
      ]
     },
     "execution_count": 141,
     "metadata": {},
     "output_type": "execute_result"
    }
   ],
   "source": [
    "log = LogisticRegression(solver = 'newton-cg', C = 100).fit(X_train_com, y_train_com)\n",
    "log.score(X_test_com, y_test_com)"
   ]
  },
  {
   "cell_type": "markdown",
   "id": "5313b36e",
   "metadata": {},
   "source": [
    "### Random Forest Classifier"
   ]
  },
  {
   "cell_type": "code",
   "execution_count": 132,
   "id": "8118b4c7",
   "metadata": {},
   "outputs": [
    {
     "data": {
      "text/plain": [
       "{'max_depth': 10}"
      ]
     },
     "execution_count": 132,
     "metadata": {},
     "output_type": "execute_result"
    }
   ],
   "source": [
    "params = [{'max_depth': [2, 3, 4, 5, 6, 7, 8, 9, 10],\n",
    "         }]\n",
    "rfc_gs = GridSearchCV(RandomForestClassifier(),\n",
    "                      param_grid=params,\n",
    "                      scoring='accuracy',\n",
    "                      cv=5)\n",
    "rfc_gs.fit(X_train_com, y_train_com)\n",
    "rfc_gs.best_params_"
   ]
  },
  {
   "cell_type": "code",
   "execution_count": 131,
   "id": "f548c383",
   "metadata": {},
   "outputs": [
    {
     "data": {
      "text/plain": [
       "0.9574468085106383"
      ]
     },
     "execution_count": 131,
     "metadata": {},
     "output_type": "execute_result"
    }
   ],
   "source": [
    "rfc = RandomForestClassifier(max_depth=7, random_state=0)\n",
    "rfc.fit(X_train_com, y_train_com)\n",
    "rfc.score(X_test_com, y_test_com)"
   ]
  },
  {
   "cell_type": "markdown",
   "id": "167e5a52",
   "metadata": {},
   "source": [
    "### Linear Discriminiant Analysis"
   ]
  },
  {
   "cell_type": "code",
   "execution_count": 137,
   "id": "4dad0722",
   "metadata": {},
   "outputs": [
    {
     "data": {
      "text/plain": [
       "{'n_components': None, 'solver': 'svd'}"
      ]
     },
     "execution_count": 137,
     "metadata": {},
     "output_type": "execute_result"
    }
   ],
   "source": [
    "params = [{'solver': ['svd', 'lsqr', 'eigen'],\n",
    "           'n_components': [None, 1, 2, 3, 4, 5]\n",
    "         }]\n",
    "rfc_gs = GridSearchCV(LinearDiscriminantAnalysis(),\n",
    "                      param_grid=params,\n",
    "                      scoring='accuracy',\n",
    "                      cv=5)\n",
    "rfc_gs.fit(X_train_com, y_train_com)\n",
    "rfc_gs.best_params_"
   ]
  },
  {
   "cell_type": "code",
   "execution_count": 138,
   "id": "57356a80",
   "metadata": {},
   "outputs": [
    {
     "data": {
      "text/plain": [
       "0.7978723404255319"
      ]
     },
     "execution_count": 138,
     "metadata": {},
     "output_type": "execute_result"
    }
   ],
   "source": [
    "lda = LinearDiscriminantAnalysis(n_components =  None, solver = 'svd')\n",
    "lda.fit(X_train_com, y_train_com)\n",
    "lda.score(X_test_com, y_test_com)"
   ]
  },
  {
   "cell_type": "code",
   "execution_count": null,
   "id": "d1298f7d",
   "metadata": {},
   "outputs": [],
   "source": []
  },
  {
   "cell_type": "code",
   "execution_count": null,
   "id": "66d2166c",
   "metadata": {},
   "outputs": [],
   "source": []
  },
  {
   "cell_type": "code",
   "execution_count": null,
   "id": "104d51c1",
   "metadata": {},
   "outputs": [],
   "source": []
  },
  {
   "cell_type": "code",
   "execution_count": null,
   "id": "72879393",
   "metadata": {},
   "outputs": [],
   "source": []
  },
  {
   "cell_type": "code",
   "execution_count": null,
   "id": "04ad3ee8",
   "metadata": {},
   "outputs": [],
   "source": []
  },
  {
   "cell_type": "code",
   "execution_count": null,
   "id": "bca53f1d",
   "metadata": {},
   "outputs": [],
   "source": []
  }
 ],
 "metadata": {
  "kernelspec": {
   "display_name": "Python 3",
   "language": "python",
   "name": "python3"
  },
  "language_info": {
   "codemirror_mode": {
    "name": "ipython",
    "version": 3
   },
   "file_extension": ".py",
   "mimetype": "text/x-python",
   "name": "python",
   "nbconvert_exporter": "python",
   "pygments_lexer": "ipython3",
   "version": "3.7.4"
  }
 },
 "nbformat": 4,
 "nbformat_minor": 5
}
